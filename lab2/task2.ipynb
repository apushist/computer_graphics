{
 "cells": [
  {
   "cell_type": "markdown",
   "id": "06c8289c",
   "metadata": {},
   "source": [
    "Выделить из полноцветного изображения каждый из каналов R, G, B  и вывести результат. Построить гистограмму по цветам (3 штуки).\n",
    "\n",
    "Клочкова"
   ]
  }
 ],
 "metadata": {
  "language_info": {
   "name": "python"
  }
 },
 "nbformat": 4,
 "nbformat_minor": 5
}
