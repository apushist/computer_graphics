{
 "cells": [
  {
   "cell_type": "markdown",
   "id": "f51ca7bd",
   "metadata": {},
   "source": [
    "Преобразовать изображение из RGB в HSV. Добавить возможность изменять значения оттенка, насыщенности и яркости. Результат сохранять в файл, предварительно преобразовав обратно.\n",
    "\n",
    "Пушкова"
   ]
  }
 ],
 "metadata": {
  "language_info": {
   "name": "python"
  }
 },
 "nbformat": 4,
 "nbformat_minor": 5
}
